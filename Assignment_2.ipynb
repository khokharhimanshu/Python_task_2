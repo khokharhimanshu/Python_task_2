{
 "cells": [
  {
   "cell_type": "markdown",
   "id": "d710f2f9-71bb-4b2b-9d99-a63b8ae713cf",
   "metadata": {},
   "source": [
    "# Assignment_2"
   ]
  },
  {
   "cell_type": "raw",
   "id": "47fe80b2-9786-4803-be8f-b550864dde56",
   "metadata": {},
   "source": [
    "1.What are the two values of the Boolean data type? How do you write them?"
   ]
  },
  {
   "cell_type": "raw",
   "id": "501d6761-9ef7-49d1-8a9f-5053dc74baa5",
   "metadata": {},
   "source": [
    "There are two values of boolean data type \"True\" and \"False\" .These data type is case-sensitive which means must written \n",
    "in lowercase letter"
   ]
  },
  {
   "cell_type": "code",
   "execution_count": 1,
   "id": "cba08363-4d9f-469e-b89a-78e4e66c55d0",
   "metadata": {},
   "outputs": [
    {
     "name": "stdout",
     "output_type": "stream",
     "text": [
      "<class 'bool'>\n",
      "<class 'bool'>\n"
     ]
    }
   ],
   "source": [
    "a=True\n",
    "b=False\n",
    "print(type(a))\n",
    "print(type(b))"
   ]
  },
  {
   "cell_type": "raw",
   "id": "dea774d9-c11a-4e7f-b017-c03983168267",
   "metadata": {},
   "source": [
    "2. What are the three different types of Boolean operators?"
   ]
  },
  {
   "cell_type": "raw",
   "id": "8080412a-3541-475a-92b9-bbeae50c0ccd",
   "metadata": {},
   "source": [
    "The three different type of boolean operators;\n",
    "1. AND operatr: The 'and' operator return 'True' only if both operands are 'True' otherwise it returns 'False'\n",
    "2. OR operator: The \"or\" operator returns 'True' if at least one of the operands is 'True' Otherwise it returns 'False'.\n",
    "3. NOT operator: The 'not' operator returns the opposite Boolean value of the operands. If the operand is 'True'\n",
    ", it returns 'False', and if the operand is 'False', it returns 'True'."
   ]
  },
  {
   "cell_type": "code",
   "execution_count": 2,
   "id": "af6634f8-a64b-4746-9574-0b9c09506991",
   "metadata": {},
   "outputs": [
    {
     "name": "stdout",
     "output_type": "stream",
     "text": [
      "False\n",
      "True\n",
      "True\n",
      "False\n",
      "False\n",
      "True\n"
     ]
    }
   ],
   "source": [
    "# take some boolean operator\n",
    "\n",
    "a=True\n",
    "b=False\n",
    "c=True\n",
    "\n",
    "# using the AND operator\n",
    "print(a and b)\n",
    "print(a and c)\n",
    "\n",
    "# using the OR operator\n",
    "print(b or c)\n",
    "print(b or b)\n",
    "\n",
    "# using the NOT operator\n",
    "print(not a)\n",
    "print(not b)"
   ]
  },
  {
   "cell_type": "raw",
   "id": "e9cb5fc8-ec6a-40ff-b6ae-22c50c32a9f2",
   "metadata": {},
   "source": [
    "3. Make a list of each Boolean operator's truth tables (i.e. every possible combination of Boolean\n",
    "values for the operator and what it evaluate )."
   ]
  },
  {
   "cell_type": "code",
   "execution_count": 8,
   "id": "f9acd808-b60b-4d38-bf06-be4412e9fe50",
   "metadata": {},
   "outputs": [
    {
     "name": "stdout",
     "output_type": "stream",
     "text": [
      "+-----------+-----------+--------+\n",
      "| Operand 1 | Operand 2 | Result |\n",
      "+-----------+-----------+--------+\n",
      "|    True   |    True   |  True  |\n",
      "|    True   |   False   | False  |\n",
      "|   False   |    True   | False  |\n",
      "|   False   |   False   | False  |\n",
      "+-----------+-----------+--------+\n"
     ]
    }
   ],
   "source": [
    "#.AND truth table\n",
    "from prettytable import PrettyTable\n",
    "\n",
    "# Define the table \n",
    "table1= PrettyTable()\n",
    "table1.field_names= [\"Operand 1\", \"Operand 2\" , \"Result\"]\n",
    "\n",
    "# Add some data to the table \n",
    "table1.add_row([\"True\",\"True\",\"True\"])\n",
    "table1.add_row([\"True\",\"False\",\"False\"])\n",
    "table1.add_row([\"False\",\"True\",\"False\"])\n",
    "table1.add_row([\"False\",\"False\",\"False\"])\n",
    "\n",
    "print(table1)"
   ]
  },
  {
   "cell_type": "code",
   "execution_count": 9,
   "id": "2243edbe-71ea-48c5-a883-120b6b3a64c4",
   "metadata": {},
   "outputs": [
    {
     "name": "stdout",
     "output_type": "stream",
     "text": [
      "+-----------+-----------+--------+\n",
      "| Operand 1 | Operand 2 | Result |\n",
      "+-----------+-----------+--------+\n",
      "|    True   |    True   |  True  |\n",
      "|    True   |   False   |  True  |\n",
      "|   False   |    True   |  True  |\n",
      "|   False   |   False   | False  |\n",
      "+-----------+-----------+--------+\n"
     ]
    }
   ],
   "source": [
    "#.OR truth table\n",
    "from prettytable import PrettyTable\n",
    "\n",
    "# Define the table \n",
    "table2= PrettyTable()\n",
    "table2.field_names= [\"Operand 1\", \"Operand 2\" , \"Result\"]\n",
    "\n",
    "# Add some data to the table \n",
    "table2.add_row([\"True\",\"True\",\"True\"])\n",
    "table2.add_row([\"True\",\"False\",\"True\"])\n",
    "table2.add_row([\"False\",\"True\",\"True\"])\n",
    "table2.add_row([\"False\",\"False\",\"False\"])\n",
    "\n",
    "print(table2)"
   ]
  },
  {
   "cell_type": "code",
   "execution_count": 10,
   "id": "63fc6001-0dbe-44e1-870a-68ddca46bf65",
   "metadata": {},
   "outputs": [
    {
     "name": "stdout",
     "output_type": "stream",
     "text": [
      "+-----------+--------+\n",
      "| Operand 1 | Result |\n",
      "+-----------+--------+\n",
      "|   False   |  True  |\n",
      "|    True   | False  |\n",
      "+-----------+--------+\n"
     ]
    }
   ],
   "source": [
    "#.NOT truth table\n",
    "from prettytable import PrettyTable\n",
    "\n",
    "# Define the table \n",
    "table3= PrettyTable()\n",
    "table3.field_names= [\"Operand 1\",  \"Result\"]\n",
    "\n",
    "# Add some data to the table \n",
    "table3.add_row([\"False\",\"True\"])\n",
    "table3.add_row([\"True\",\"False\"])\n",
    "\n",
    "print(table3)"
   ]
  },
  {
   "cell_type": "raw",
   "id": "213a22cc-30da-486b-a39c-3daf3d2c6279",
   "metadata": {},
   "source": [
    "4. What are the values of the following expressions?\n",
    "(5 > 4) and (3 == 5)\n",
    "not (5 > 4)\n",
    "(5 > 4) or (3 == 5)\n",
    "not ((5 > 4) or (3 == 5))\n",
    "(True and True) and (True == False)\n",
    "(not False) or (not True)"
   ]
  },
  {
   "cell_type": "raw",
   "id": "8c28ac5e-720a-4f8d-a800-e1401fb84e3a",
   "metadata": {},
   "source": [
    "1. (5 > 4) and (3 == 5) calculates to \"False\" because the second condition (3 == 5) is \"False\".\n",
    "2. not (5 > 4) calculates to'False' because (5 > 4) is 'True', and 'not True' is 'False'.\n",
    "3. (5 > 4) or (3 == 5) calculates to 'True' because the first condition (5 > 4) is 'True'.\n",
    "4. not ((5 > 4) or (3 == 5)) calculates to 'False' because the expression (5 > 4) or (3 == 5) is 'True', and 'not True' is 'False'.\n",
    "5. (True and True) and (True == False) calculates to 'False' because the third condition (True == False) is 'False'.\n",
    "6. (not False) or (not True) calculates to 'True' because the first condition 'not False' is 'True', and 'True or not True' is 'True'."
   ]
  },
  {
   "cell_type": "raw",
   "id": "578139ee-701a-40bc-adc2-26da2ac43ece",
   "metadata": {},
   "source": [
    "5. What are the six comparison operators?"
   ]
  },
  {
   "cell_type": "raw",
   "id": "04616d8c-3537-4ec7-9d1b-4e7b62577215",
   "metadata": {},
   "source": [
    "1.Equal to ('==')\n",
    "2.Not equal to ('!=')\n",
    "3.Greater than ('>')\n",
    "4.Less than ('<')\n",
    "5.Greater than or equal to ('>=')\n",
    "6.Less than or equal to ('<=')"
   ]
  },
  {
   "cell_type": "raw",
   "id": "f1979b1a-7b21-4adb-b16f-f43d1c0d9b66",
   "metadata": {},
   "source": [
    "6. How do you tell the difference between the equal to and assignment operators?Describe a\n",
    "condition and when you would use one."
   ]
  },
  {
   "cell_type": "raw",
   "id": "bd1ca300-10b6-43b0-be7c-83e3a5845585",
   "metadata": {},
   "source": [
    "The equal to operator (==) is used to compare two values for equality, while the assignment operator (=) is used to assign a value to a variable.for example,"
   ]
  },
  {
   "cell_type": "code",
   "execution_count": 12,
   "id": "018b08dd-da40-4619-851b-8d38ae05e088",
   "metadata": {},
   "outputs": [
    {
     "name": "stdout",
     "output_type": "stream",
     "text": [
      "x is not equal to y\n"
     ]
    }
   ],
   "source": [
    "x = 2  # This is an assignment statement that assign the value 2 to the variable 'x'\n",
    "y = 4  # This is another assignment statement that assign the value 4 to the variable 'y'\n",
    "\n",
    "if x==y:\n",
    "    print(\"x is equal to y\")\n",
    "else:\n",
    "    print(\"x is not equal to y\")"
   ]
  },
  {
   "cell_type": "raw",
   "id": "4305b9b2-b2b2-4e0d-84aa-2048d1e53870",
   "metadata": {},
   "source": [
    "In this example, the first two lines use the assignment operator ('=') to assign the values 2 and 4 to the variables x and y, respectively. The third line uses the equal to operator ('==') to compare the values of x and y. Since, x is not equal to y, the output of the program is \"x is not equal to y.\""
   ]
  },
  {
   "cell_type": "raw",
   "id": "67830064-9f65-4ae5-a77e-bfcb8b26eba7",
   "metadata": {},
   "source": [
    "7. Identify the three blocks in this code:\n",
    "spam = 0\n",
    "if spam == 10:\n",
    "print(&#39;eggs&#39;)\n",
    "if spam &gt; 5:\n",
    "print(&#39;bacon&#39;)\n",
    "else:\n",
    "print(&#39;ham&#39;)\n",
    "print(&#39;spam&#39;)\n",
    "print(&#39;spam&#39;)"
   ]
  },
  {
   "cell_type": "code",
   "execution_count": 13,
   "id": "a12a5986-ef29-4a48-87d0-2b7fbca1677a",
   "metadata": {},
   "outputs": [
    {
     "name": "stdout",
     "output_type": "stream",
     "text": [
      "ham\n",
      "spam\n",
      "spam\n"
     ]
    }
   ],
   "source": [
    "spam = 0\n",
    "\n",
    "if spam == 10:\n",
    "    print('eggs')\n",
    "    \n",
    "if spam > 5:\n",
    "    print('bacon')\n",
    "else:\n",
    "    print('ham')\n",
    "    \n",
    "print('spam')\n",
    "print('spam')\n"
   ]
  },
  {
   "cell_type": "raw",
   "id": "b7256863-86fd-4032-a482-46d57a7fee10",
   "metadata": {},
   "source": [
    "There are three block of code:\n",
    "1. The first block is the assignment statement spam = 0, which assigns the value '0' to the variable 'spam'.\n",
    "2. The second block is an if statement that tests whether 'spam' is equal to 10. If it is, the program print 'eggs'. However, since 'spam' is 0 in this case, this block of code is not executed.\n",
    "3. The third block is also an if statement that tests whether 'spam' is greater than 5. Since 'spam' is not greater than 5, the program executes the else block of code, which print 'ham'. After this if-else statement, the program continues to execute the two print statements, which print 'spam' twice."
   ]
  },
  {
   "cell_type": "raw",
   "id": "001952a1-1c34-4ada-bd54-914fef9bbeec",
   "metadata": {},
   "source": [
    "8. Write code that prints Hello if 1 is stored in spam, prints Howdy if 2 is stored in spam, and prints\n",
    "Greetings! if anything else is stored in spam."
   ]
  },
  {
   "cell_type": "code",
   "execution_count": 14,
   "id": "1950a339-f188-4393-a2d2-b1ddd3acd4c6",
   "metadata": {},
   "outputs": [
    {
     "name": "stdout",
     "output_type": "stream",
     "text": [
      "Greetings!\n"
     ]
    }
   ],
   "source": [
    "spam = 3\n",
    "\n",
    "if spam == 1:\n",
    "    print(\"Hello\")\n",
    "elif spam == 2:\n",
    "    print(\"Howdy\")\n",
    "else:\n",
    "    print(\"Greetings!\")\n"
   ]
  },
  {
   "cell_type": "raw",
   "id": "63453d4e-8df9-455d-8be9-5ca485b3622c",
   "metadata": {},
   "source": [
    "In this code, firstly we assign the value 3 to the variable 'spam'.Then we use the if-elif-else statement to check the value of 'spam'.If 'spam' is equal to 1,then we print 'Hello'.If 'spam' is equal to 2,then we print 'Howdy'.If spam is not equal to 1 and 2,then we print 'Greetings!'"
   ]
  },
  {
   "cell_type": "raw",
   "id": "fd2b93d6-e29a-4187-a6e0-0cd2e35de873",
   "metadata": {},
   "source": [
    "9.If your programme is stuck in an endless loop, what keys you’ll press?"
   ]
  },
  {
   "cell_type": "raw",
   "id": "f52c0eaa-e202-424d-b113-2b929fa6e0b7",
   "metadata": {},
   "source": [
    "If a program is stuck in an endless loop, we can stop the execution of the program using a keyboard interrupt. On most systems, the keyboard interrupt is triggered by pressing the \"Ctrl\" and \"C\" keys simultaneously. This will send a signal to the program to stop its execution, allowing us to regain control of the terminal or console."
   ]
  },
  {
   "cell_type": "raw",
   "id": "117862ef-38c3-4687-994a-93217b4302fd",
   "metadata": {},
   "source": [
    "10. How can you tell the difference between break and continue?"
   ]
  },
  {
   "cell_type": "raw",
   "id": "015f0cd9-b30e-4908-96b6-8d15c19724f1",
   "metadata": {},
   "source": [
    "The main difference between 'break' and 'continue' is that 'break' is used to terminate the loop prematurely, while 'continue' is used to skip the current iteration of the loop and move on to the next iteration.for example,"
   ]
  },
  {
   "cell_type": "code",
   "execution_count": 17,
   "id": "37f46df2-56d0-4260-8e5b-c8d5c299e164",
   "metadata": {},
   "outputs": [
    {
     "name": "stdout",
     "output_type": "stream",
     "text": [
      "1\n",
      "2\n",
      "3\n",
      "4\n",
      "5\n",
      "6\n",
      "7\n",
      "1\n",
      "2\n",
      "3\n",
      "4\n",
      "5\n",
      "7\n",
      "8\n",
      "9\n",
      "10\n",
      "11\n",
      "12\n",
      "13\n",
      "14\n",
      "15\n",
      "16\n",
      "17\n"
     ]
    }
   ],
   "source": [
    "# Example of break statement\n",
    "for i in range(1, 18):\n",
    "    if i == 8:\n",
    "        break\n",
    "    print(i)\n",
    "\n",
    "# Output: 1 2 3 4 5 6 7 \n",
    "\n",
    "# Example of continue statement\n",
    "for i in range(1, 18):\n",
    "    if i == 6:\n",
    "        continue\n",
    "    print(i)\n",
    "\n",
    "# Output: 1 2 3 4 5 7 8 9 10 11 12 13 14 15 16 17 \n"
   ]
  },
  {
   "cell_type": "raw",
   "id": "bb8a5257-c541-4c18-9599-76929f75b2bb",
   "metadata": {},
   "source": [
    "11. In a for loop, what is the difference between range(10), range(0, 10), and range(0, 10, 1)?"
   ]
  },
  {
   "cell_type": "code",
   "execution_count": 16,
   "id": "c50ce716-38a8-447b-8512-60fca79109d3",
   "metadata": {},
   "outputs": [
    {
     "name": "stdout",
     "output_type": "stream",
     "text": [
      "0\n",
      "1\n",
      "2\n",
      "3\n",
      "4\n",
      "5\n",
      "6\n",
      "7\n",
      "8\n",
      "9\n",
      "0\n",
      "1\n",
      "2\n",
      "3\n",
      "4\n",
      "5\n",
      "6\n",
      "7\n",
      "8\n",
      "9\n",
      "0\n",
      "1\n",
      "2\n",
      "3\n",
      "4\n",
      "5\n",
      "6\n",
      "7\n",
      "8\n",
      "9\n"
     ]
    }
   ],
   "source": [
    "# in range function is a built-in function that generates a sequence of numbers.It takes up to three arguments: start, stop, and step\n",
    "# 1. range(10)\n",
    "for i in range(10):\n",
    "    print(i)\n",
    "    \n",
    "# 2. range(0,10)\n",
    "for j in range(0,10):\n",
    "    print(j)\n",
    "    \n",
    "# 3. range(0,10,1)\n",
    "for l in range(0,10,1):\n",
    "    print(l)"
   ]
  },
  {
   "cell_type": "raw",
   "id": "7a054fcf-5e6a-479f-b4e2-4d7e62f0b08a",
   "metadata": {},
   "source": [
    "Differences between range(10), range(0, 10), and range(0, 10, 1) in a for loop are subtle, but all three generate the same sequence of integers, and the resulting loop will iterate 10 times. The main difference is in the syntax and the way the arguments are specified."
   ]
  },
  {
   "cell_type": "raw",
   "id": "67f6c2a8-cbc5-48da-b062-1314049095b2",
   "metadata": {},
   "source": [
    "12. Write a short program that prints the numbers 1 to 10 using a for loop. Then write an equivalent\n",
    "program that prints the numbers 1 to 10 using a while loop."
   ]
  },
  {
   "cell_type": "code",
   "execution_count": 19,
   "id": "ea068b48-4d74-4895-9a58-d3bb03381989",
   "metadata": {},
   "outputs": [
    {
     "name": "stdout",
     "output_type": "stream",
     "text": [
      "1\n",
      "2\n",
      "3\n",
      "4\n",
      "5\n",
      "6\n",
      "7\n",
      "8\n",
      "9\n",
      "10\n",
      "1\n",
      "2\n",
      "3\n",
      "4\n",
      "5\n",
      "6\n",
      "7\n",
      "8\n",
      "9\n",
      "10\n"
     ]
    }
   ],
   "source": [
    "# short program that prints the numbers 1 to 10 using a for loop \n",
    "for i in range(1, 11):\n",
    "    print(i)\n",
    "\n",
    "# Equivalent program that prints the numbers 1 to 10 using a while loop\n",
    "a = 1\n",
    "while a <= 10:\n",
    "    print(a)\n",
    "    a += 1\n",
    "\n",
    "# both of these program will print same output"
   ]
  },
  {
   "cell_type": "raw",
   "id": "9001e836-9899-408b-b58e-a2ec316ccfd2",
   "metadata": {},
   "source": [
    "13. If you had a function named bacon() inside a module named spam, how would you call it after\n",
    "importing spam?"
   ]
  },
  {
   "cell_type": "markdown",
   "id": "32a5faec-51d0-4b5d-a6df-5273151b55c1",
   "metadata": {},
   "source": [
    "# if you have a function name bacon() inside a module named spam,you can call it after importing by using dot notations.\n",
    "\n",
    "import spam\n",
    "\n",
    "spam.bacon()\n"
   ]
  },
  {
   "cell_type": "code",
   "execution_count": null,
   "id": "59181680-a173-44eb-bf5f-d2224bf26a86",
   "metadata": {},
   "outputs": [],
   "source": []
  }
 ],
 "metadata": {
  "kernelspec": {
   "display_name": "Python 3 (ipykernel)",
   "language": "python",
   "name": "python3"
  },
  "language_info": {
   "codemirror_mode": {
    "name": "ipython",
    "version": 3
   },
   "file_extension": ".py",
   "mimetype": "text/x-python",
   "name": "python",
   "nbconvert_exporter": "python",
   "pygments_lexer": "ipython3",
   "version": "3.10.6"
  }
 },
 "nbformat": 4,
 "nbformat_minor": 5
}
